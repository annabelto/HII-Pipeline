{
 "cells": [
  {
   "cell_type": "code",
   "execution_count": 6,
   "id": "df9f5132",
   "metadata": {},
   "outputs": [
    {
     "name": "stdout",
     "output_type": "stream",
     "text": [
      "C:\\Users\\annab\\Documents\\Coding\\cs370\\WISE_Files_ALL\\WISE_Files_0\n",
      "[[4.699418  4.6904907 4.661808  4.6453857 4.6578703 4.683215  4.699875\n",
      "  4.6974983 4.676898 ]\n",
      " [4.668316  4.6677837 4.650323  4.64044   4.649028  4.6619635 4.6651993\n",
      "  4.6561317 4.6407547]\n",
      " [4.6405115 4.652323  4.65162   4.651887  4.658489  4.6607885 4.651823\n",
      "  4.6322756 4.612836 ]\n",
      " [4.638956  4.66761   4.689309  4.7053947 4.7140636 4.7081833 4.6845245\n",
      "  4.6468735 4.6111984]\n",
      " [4.672879  4.722247  4.7720165 4.8104906 4.8281965 4.818137  4.7773447\n",
      "  4.7135124 4.649194 ]\n",
      " [4.7258215 4.7960024 4.8754253 4.9431534 4.981552  4.976121  4.9217815\n",
      "  4.8291664 4.7278423]\n",
      " [4.7724905 4.8578625 4.962784  5.0616703 5.1288385 5.1401863 5.08288\n",
      "  4.9683256 4.830323 ]\n",
      " [4.7966576 4.886098  5.004554  5.126916  5.222374  5.25766   5.210989\n",
      "  5.0898314 4.927723 ]\n",
      " [4.7950344 4.8759336 4.9904575 5.1172943 5.2285595 5.286913  5.2620306\n",
      "  5.1533804 4.989834 ]]\n",
      "C:\\Users\\annab\\Documents\\Coding\\cs370\\WISE_Files_ALL\\WISE_Files_0\\0000m016_ac51-w1-int-3_ra0.298_dec-1.05_asec10.000.fits\n",
      "type:  <class 'numpy.ndarray'>\n",
      "1996\n"
     ]
    }
   ],
   "source": [
    "import os\n",
    "import numpy as np\n",
    "import shutil\n",
    "from astropy.utils.data import get_pkg_data_filename\n",
    "from astropy.io import fits\n",
    "\n",
    "dir = r'C:\\Users\\annab\\Documents\\Coding\\cs370\\WISE_Files_ALL'\n",
    "ext = ('.fits')\n",
    "ctr = 0\n",
    "list = []\n",
    "\n",
    "for subfolder in os.listdir(dir):\n",
    "    foldername = os.path.join(dir, subfolder)\n",
    "    print(foldername)\n",
    "    for file in os.listdir(foldername):\n",
    "        f = os.path.join(foldername, file)\n",
    "        if os.path.isfile(f):\n",
    "            image_file = get_pkg_data_filename(f)\n",
    "            image_data = fits.getdata(image_file, ext=0)\n",
    "            list.append(image_data)\n",
    "            if ctr == 0:\n",
    "                print(image_data)\n",
    "                print(f)\n",
    "                print(\"type: \", type(image_data))\n",
    "                ctr = 1  \n",
    "    print(len(list))\n",
    "    \n",
    "# norm_images = []\n",
    "# for arr in list:\n",
    "#     norm = np.linalg.norm(arr)\n",
    "#     norm_images.append(arr/norm)\n",
    "# print(norm_images[0])"
   ]
  },
  {
   "cell_type": "code",
   "execution_count": null,
   "id": "c303114e",
   "metadata": {},
   "outputs": [],
   "source": []
  }
 ],
 "metadata": {
  "kernelspec": {
   "display_name": "Python 3 (ipykernel)",
   "language": "python",
   "name": "python3"
  },
  "language_info": {
   "codemirror_mode": {
    "name": "ipython",
    "version": 3
   },
   "file_extension": ".py",
   "mimetype": "text/x-python",
   "name": "python",
   "nbconvert_exporter": "python",
   "pygments_lexer": "ipython3",
   "version": "3.9.7"
  }
 },
 "nbformat": 4,
 "nbformat_minor": 5
}
